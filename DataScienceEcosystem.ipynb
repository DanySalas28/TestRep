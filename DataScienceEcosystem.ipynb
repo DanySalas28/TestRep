{
  "cells": [
    {
      "cell_type": "markdown",
      "metadata": {
        "id": "view-in-github",
        "colab_type": "text"
      },
      "source": [
        "<a href=\"https://colab.research.google.com/github/DanySalas28/TestRep/blob/main/DataScienceEcosystem.ipynb\" target=\"_parent\"><img src=\"https://colab.research.google.com/assets/colab-badge.svg\" alt=\"Open In Colab\"/></a>"
      ]
    },
    {
      "cell_type": "markdown",
      "metadata": {
        "id": "9c5e64dc-2bc7-4640-9b71-877eda7b6100"
      },
      "source": [
        "<center>\n",
        "    <img src=\"https://cf-courses-data.s3.us.cloud-object-storage.appdomain.cloud/IBMDeveloperSkillsNetwork-DS0105EN-SkillsNetwork/labs/Module2/images/SN_web_lightmode.png\" width=\"300\" alt=\"cognitiveclass.ai logo\">\n",
        "</center>\n"
      ]
    },
    {
      "cell_type": "markdown",
      "metadata": {
        "id": "bca0d27a-24c6-4c43-b116-c73c8d9ab219"
      },
      "source": [
        "# Hands-on Lab: Create your Jupyter Notebook\n"
      ]
    },
    {
      "cell_type": "markdown",
      "metadata": {
        "id": "8b126e2f-912e-42e0-8d57-43862ac465fc"
      },
      "source": [
        "#### Add your code below following the instructions given in the course\n"
      ]
    },
    {
      "cell_type": "markdown",
      "source": [
        "Instructions\n",
        "Note - Screenshots\n",
        "Throughout this lab, you will be prompted to take screenshots and save them on your device. You will need these screenshots to upload them as your submission for peer review at the end of this course. You can use various free screengrabbing tools or your operating system's shortcut keys to do this (for example, Alt+PrintScreen in Windows and Shift+Command+3 for Mac).\n",
        "\n",
        "Note 1 : Images can be saved with either the .jpg or .png extension.\n",
        "\n",
        "Note 2: It's recommended to take a screenshot covering the entire content, from the question header to the final output. For markdown cells, capturing only the output is sufficient, there's no need to include the code itself."
      ],
      "metadata": {
        "id": "z0YKOoCwoSMT"
      }
    },
    {
      "cell_type": "markdown",
      "source": [
        "\n",
        "\n",
        "1.   **Exercise 1:** Create a Jupyter Notebook\n",
        "\n"
      ],
      "metadata": {
        "id": "VWu163anoY44"
      }
    },
    {
      "cell_type": "markdown",
      "source": [
        ">Create a new Jupyter notebook called DataScienceEcosystem.ipynb\n",
        ">Note: The next item in the course will launch JupyterLite with an empty notebook with this name that you can use to complete rest of the Exercises. You can also use any other Jupyter notebook environment (e.g. Anaconda) that you prefer to complete the assignment."
      ],
      "metadata": {
        "id": "XfhXVBzdpBUb"
      }
    },
    {
      "cell_type": "markdown",
      "source": [
        "  \n",
        "  2.   **Exercise 2:** Create markdown cell with title of the notebook\n",
        "\n"
      ],
      "metadata": {
        "id": "5YK3Y9-8peth"
      }
    },
    {
      "cell_type": "markdown",
      "source": [
        ">Create a markdown cell with the title Data Science Tools and Ecosystem using H1 style heading.\n",
        ">Take a screenshot of the markdown cell and name it as 2-title.**png**"
      ],
      "metadata": {
        "id": "UCvN3hjDpqol"
      }
    },
    {
      "cell_type": "markdown",
      "source": [
        "# Data Science Tools and Ecosystem"
      ],
      "metadata": {
        "id": "IS4uzAOT2ndg"
      }
    },
    {
      "cell_type": "markdown",
      "source": [
        "3. **Exercise 3:** Create a markdown cell for an introduction\n"
      ],
      "metadata": {
        "id": "MO9-j9nTpyYP"
      }
    },
    {
      "cell_type": "markdown",
      "source": [
        "\n",
        "\n",
        "\n",
        ">Write an introductory sentence about the notebook such as the follows:\n",
        ">In this notebook, Data Science Tools and Ecosystem are summarized.\n",
        ">Take a screenshot of the markdown cell and name it as 3-intro. png\n"
      ],
      "metadata": {
        "id": "ZwLNkPI_uIld"
      }
    },
    {
      "cell_type": "markdown",
      "source": [
        "\n",
        "In this notebook, Data Science Tools and Ecosystem are summarized."
      ],
      "metadata": {
        "id": "PKhCP_-m2Lp_"
      }
    },
    {
      "cell_type": "markdown",
      "source": [
        "4. **Exercise 4** - Create a markdown cell to list data science languages"
      ],
      "metadata": {
        "id": "s8fIOnZMuIgJ"
      }
    },
    {
      "cell_type": "markdown",
      "source": [
        ">Start the cell with an overview line such as:\n",
        ">Some of the popular languages that Data Scientists use are:\n",
        ">Then create an ordered list (i.e. numbered) listing 3 (or more) commonly used languages for data science.\n",
        ">Take a screenshot of the markdown cell and name it as 4-dslanguages.png\n"
      ],
      "metadata": {
        "id": "zHYy7cByvQ91"
      }
    },
    {
      "cell_type": "markdown",
      "source": [
        "Some of the popular languages that Data Scientists use are:\n",
        "\n",
        "1. Python\n",
        "2. R\n",
        "3. SQL\n",
        "4. Scala"
      ],
      "metadata": {
        "id": "xWA6ejnG3KZ1"
      }
    },
    {
      "cell_type": "markdown",
      "source": [
        "5. **Exercise 5** - Create a markdown cell to list data science libraries"
      ],
      "metadata": {
        "id": "4SVXrxL3yYVw"
      }
    },
    {
      "cell_type": "markdown",
      "source": [
        ">Add an overview line to the cell like:\n",
        ">Some of the commonly used libraries used by Data Scientists include:\n",
        ">Below this line add an ordered list listing 3 (or more) commonly used libraries in data science.\n",
        ">Take a screenshot of the markdown cell and name it as 5-dslibraries.png\n"
      ],
      "metadata": {
        "id": "tWx8sEwgydYJ"
      }
    },
    {
      "cell_type": "markdown",
      "source": [
        "Some of the commonly used libraries used by Data Scientists include:\n",
        "\n",
        "1. Pandas\n",
        "2. NumPy\n",
        "3. Scikit-learn\n",
        "4. TensorFlow"
      ],
      "metadata": {
        "id": "YvRVSinw3XeO"
      }
    },
    {
      "cell_type": "markdown",
      "source": [
        "6. **Exercise 6:** Create a markdown cell with a table of Data Science tools"
      ],
      "metadata": {
        "id": "_FLnS7-gynVi"
      }
    },
    {
      "cell_type": "markdown",
      "source": [
        ">Create a single column table in this cell with the first row containing the header Data Science Tools. The subsequent three rows in the table should indicate three development environment open source tools used in data science.\n",
        ">Take a screenshot of the markdown cell and name it as 6-dstools.png\n",
        ">Hint: Refer to Lab: Using Markdowns in Jupyter Notebooks to create a table."
      ],
      "metadata": {
        "id": "zvNZ-xM3ys5l"
      }
    },
    {
      "cell_type": "code",
      "source": [
        "from IPython.display import Markdown, display\n",
        "\n",
        "table = \"\"\"\n",
        "| Data Science Tools |\n",
        "|--------------------|\n",
        "| Jupyter Notebook   |\n",
        "| RStudio            |\n",
        "| VS Code            |\n",
        "| Spyder             |\n",
        "| Apache Zeppelin    |\n",
        "\"\"\"\n",
        "\n",
        "display(Markdown(table))\n"
      ],
      "metadata": {
        "colab": {
          "base_uri": "https://localhost:8080/",
          "height": 206
        },
        "id": "PUV8As-m4LrV",
        "outputId": "8dc59e11-c398-470d-d6ef-cc96ac25b0ce"
      },
      "execution_count": 5,
      "outputs": [
        {
          "output_type": "display_data",
          "data": {
            "text/plain": [
              "<IPython.core.display.Markdown object>"
            ],
            "text/markdown": "\n| Data Science Tools |\n|--------------------|\n| Jupyter Notebook   |\n| RStudio            |\n| VS Code            |\n| Spyder             |\n| Apache Zeppelin    |\n"
          },
          "metadata": {}
        }
      ]
    },
    {
      "cell_type": "markdown",
      "source": [
        "7. **Exercise 7:** Create a markdown cell introducing arithmetic expression examples"
      ],
      "metadata": {
        "id": "znAOgfR_yzGR"
      }
    },
    {
      "cell_type": "markdown",
      "source": [
        ">Add a line in this cell with H3 style heading with text like:\n",
        ">Below are a few examples of evaluating arithmetic expressions in Python.\n",
        ">Take a screenshot of the markdown cell and name it as 7-introarithmetic.png\n"
      ],
      "metadata": {
        "id": "1eqijBX-y8Tp"
      }
    },
    {
      "cell_type": "code",
      "source": [
        "display(Markdown(\"### Below are a few examples of evaluating arithmetic expressions in Python.\"))"
      ],
      "metadata": {
        "colab": {
          "base_uri": "https://localhost:8080/",
          "height": 58
        },
        "id": "SVw_pKs8zDDw",
        "outputId": "35e97e88-f7db-49e0-aebf-d5393dd23ebc"
      },
      "execution_count": 7,
      "outputs": [
        {
          "output_type": "display_data",
          "data": {
            "text/plain": [
              "<IPython.core.display.Markdown object>"
            ],
            "text/markdown": "### Below are a few examples of evaluating arithmetic expressions in Python."
          },
          "metadata": {}
        }
      ]
    },
    {
      "cell_type": "markdown",
      "source": [
        "8. **Exercise 8:** Create a code cell to multiply and add numbers"
      ],
      "metadata": {
        "id": "uxeWrSJRzFDN"
      }
    },
    {
      "cell_type": "markdown",
      "source": [
        ">In this code cell evaluate the expression (3*4)+5.\n",
        "Insert a comment line before the expression to explain the operation e.g.  This a simple arithmetic expression to mutiply then add integers.\n",
        "Then execute the cell to ensure the expression returns the expected output of 17.\n",
        ">Take a screenshot of the code cell with output and name it as 8-multiplyandaddintegers.png"
      ],
      "metadata": {
        "id": "HHHoZ8D7zeNQ"
      }
    },
    {
      "cell_type": "code",
      "source": [
        "(3 * 4) + 5"
      ],
      "metadata": {
        "colab": {
          "base_uri": "https://localhost:8080/"
        },
        "id": "MfyJxMBtzkBn",
        "outputId": "eaaf3cad-9758-4425-c60c-eff2e1a2996f"
      },
      "execution_count": 1,
      "outputs": [
        {
          "output_type": "execute_result",
          "data": {
            "text/plain": [
              "17"
            ]
          },
          "metadata": {},
          "execution_count": 1
        }
      ]
    },
    {
      "cell_type": "markdown",
      "source": [
        "9. **Exercise 9:** Create a code cell to convert minutes to hours\n"
      ],
      "metadata": {
        "id": "PNB92pR0zkRM"
      }
    },
    {
      "cell_type": "markdown",
      "source": [
        ">In this code cell write an expression that converts 200 minutes into hours.\n",
        "Insert a comment line before the expression to explain the operation e.g.  This will convert 200 minutes to hours by diving by 60.\n",
        "Run the cell to evaluate the expression.\n",
        ">Take a screenshot of the code cell with output and name it as 9-hourstominutes.png"
      ],
      "metadata": {
        "id": "4BjNkn_PztZ9"
      }
    },
    {
      "cell_type": "code",
      "source": [
        "200 / 60"
      ],
      "metadata": {
        "colab": {
          "base_uri": "https://localhost:8080/"
        },
        "id": "usKJPO0dzyKC",
        "outputId": "24e74bc9-0d58-4b4a-a95b-c739b2d340f3"
      },
      "execution_count": 2,
      "outputs": [
        {
          "output_type": "execute_result",
          "data": {
            "text/plain": [
              "3.3333333333333335"
            ]
          },
          "metadata": {},
          "execution_count": 2
        }
      ]
    },
    {
      "cell_type": "markdown",
      "source": [
        "10. **Exercise 10:** Insert a markdown cell to list Objectives"
      ],
      "metadata": {
        "id": "b3n-M89FzyX0"
      }
    },
    {
      "cell_type": "markdown",
      "source": [
        ">Below the introduction cell created in Exercise 3, insert a new markdown cell to list the objectives that this notebook covered (i.e. some of the key takeaways from the course). In this new cell start with an introductory line titled: Objectives: in bold font. Then using an unordered list (bullets) indicate 3 to 5 items covered in this notebook, such as List popular languages for Data Science.\n",
        ">Take a screenshot of the markdown cell and name it as 10-objectives.png"
      ],
      "metadata": {
        "id": "Hh0J5bSnz7IY"
      }
    },
    {
      "cell_type": "code",
      "source": [
        "from IPython.display import Markdown, display\n",
        "\n",
        "display(Markdown(\"\"\"\n",
        "**Objectives:**\n",
        "\n",
        "* List popular languages for Data Science.\n",
        "* Identify commonly used libraries in Data Science.\n",
        "* Understand different Data Science tools.\n",
        "* Learn how to perform basic arithmetic operations in Python.\n",
        "* Convert minutes to hours using Python expressions.\n",
        "\"\"\"))\n"
      ],
      "metadata": {
        "colab": {
          "base_uri": "https://localhost:8080/",
          "height": 139
        },
        "id": "dIls6xFOz921",
        "outputId": "7cdc9524-9095-47a2-e51b-0b7c8f437501"
      },
      "execution_count": 3,
      "outputs": [
        {
          "output_type": "display_data",
          "data": {
            "text/plain": [
              "<IPython.core.display.Markdown object>"
            ],
            "text/markdown": "\n**Objectives:**\n\n* List popular languages for Data Science.\n* Identify commonly used libraries in Data Science.\n* Understand different Data Science tools.\n* Learn how to perform basic arithmetic operations in Python.\n* Convert minutes to hours using Python expressions.\n"
          },
          "metadata": {}
        }
      ]
    },
    {
      "cell_type": "markdown",
      "source": [
        "11. **Exercise 11:** Create a markdown cell to indicate the Author's name"
      ],
      "metadata": {
        "id": "RRdzCrQ0z-eO"
      }
    },
    {
      "cell_type": "markdown",
      "source": [
        ">In this markdown cell markdown cell include the following text Author in H2 style heading. Include your name as regular text below the word Author.\n",
        ">Take a screenshot of the markdown cell and name it as 11-authordetails.png\n",
        ">Note: Save and download the notebook."
      ],
      "metadata": {
        "id": "knXCsjES0HKZ"
      }
    },
    {
      "cell_type": "code",
      "source": [
        "from IPython.display import Markdown, display\n",
        "\n",
        "display(Markdown(\"\"\"\n",
        "## Author\n",
        "Daniela\n",
        "\"\"\"))"
      ],
      "metadata": {
        "colab": {
          "base_uri": "https://localhost:8080/",
          "height": 90
        },
        "id": "7mZ2LXlr0MKJ",
        "outputId": "cdbf058a-a776-4c09-b64a-eef8eef4f9e8"
      },
      "execution_count": 5,
      "outputs": [
        {
          "output_type": "display_data",
          "data": {
            "text/plain": [
              "<IPython.core.display.Markdown object>"
            ],
            "text/markdown": "\n## Author\nDaniela\n"
          },
          "metadata": {}
        }
      ]
    },
    {
      "cell_type": "markdown",
      "source": [
        "12. **Exercise 12:** Share your notebook through GitHub"
      ],
      "metadata": {
        "id": "4iF5O3Li0Mfb"
      }
    },
    {
      "cell_type": "markdown",
      "source": [
        ">Upload your notebook to a public respository on GitHub.\n",
        ">Note : Please keep the GitHub repo link of the notebook handy.\n",
        "You will need to submit this link as a part of the assignment evaluation.\n",
        ">Hint: Refer to Lab: Working with files in Jupyter Notebooks to download the notebook from SN Labs.\n"
      ],
      "metadata": {
        "id": "NalyXPpJ0Wxe"
      }
    },
    {
      "cell_type": "markdown",
      "source": [
        "13. **Exercise 13:** Take a screenshot of the first page of the notebook and save it as 1-notebook.png"
      ],
      "metadata": {
        "id": "JqkXGQcO0avu"
      }
    },
    {
      "cell_type": "markdown",
      "source": [
        "Refer to Hands-on Lab: Getting Started with GitHub to upload the downloaded notebook to GitHub.\n"
      ],
      "metadata": {
        "id": "AjxvaE_e0imT"
      }
    },
    {
      "cell_type": "markdown",
      "source": [
        "Congratulations on completing this project. In a subsequent item in the course you will submit a link to your notebook on GitHub and evaluate your peers.\n",
        "\n",
        "Author\n",
        "Lakshmi Holla\n",
        "\n",
        "Niveditha Pandith\n",
        "\n",
        "Other contributor(s)\n",
        "Rav Ahuja\n",
        "\n",
        "Malika Singla"
      ],
      "metadata": {
        "id": "R84OKXein4BU"
      }
    },
    {
      "cell_type": "markdown",
      "metadata": {
        "id": "b5f467ed-efe7-45ac-a08b-b2d48c26ba81"
      },
      "source": [
        "Copyright ©2024 IBM Corporation. All rights reserved.\n"
      ]
    }
  ],
  "metadata": {
    "kernelspec": {
      "display_name": "Python",
      "language": "python",
      "name": "conda-env-python-py"
    },
    "language_info": {
      "name": "python",
      "version": "3.7.12",
      "mimetype": "text/x-python",
      "codemirror_mode": {
        "name": "ipython",
        "version": 3
      },
      "pygments_lexer": "ipython3",
      "nbconvert_exporter": "python",
      "file_extension": ".py"
    },
    "prev_pub_hash": "9e1985db9844176462bd1d5863048c9f3d17404bbc6a648be9084b0c42b29347",
    "colab": {
      "provenance": [],
      "include_colab_link": true
    }
  },
  "nbformat": 4,
  "nbformat_minor": 0
}